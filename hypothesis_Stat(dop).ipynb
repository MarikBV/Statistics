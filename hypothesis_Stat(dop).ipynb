{
 "cells": [
  {
   "cell_type": "code",
   "execution_count": 1,
   "id": "4b7cfc68-85ae-47cc-8fb2-53d110aa012a",
   "metadata": {},
   "outputs": [
    {
     "data": {
      "image/png": "[encoded data removed]",
      "text/plain": [
       "<Figure size 640x480 with 1 Axes>"
      ]
     },
     "metadata": {},
     "output_type": "display_data"
    },
    {
     "name": "stdout",
     "output_type": "stream",
     "text": [
      "correlation: PearsonRResult(statistic=0.14659691529610558, pvalue=0.30968667231093916)\n"
     ]
    }
   ],
   "source": [
    "from scipy import stats\n",
    "import matplotlib.pyplot as plt\n",
    "\n",
    "def cortest(corr, lenX):\n",
    "    #t value\n",
    "    t = corr[0] * ((len(X) - 2) / (1 - corr[0]**2))**0.5\n",
    "    print(\"data: x and y\")\n",
    "    print(\"t = {}, df = {}, p-value = {}\".format(round(t,5), len(X)-2, round(stats.t.sf(np.abs(t), 48)*2,5)))\n",
    "\n",
    "    # Use the Fisher transformation to get z\n",
    "    z = np.arctanh(corr[0])\n",
    "    #print(\"z value: {}\".format(z))\n",
    "\n",
    "    # And, the sigma value i.e standard error\n",
    "    sigma = (1/((len(X)-3)**0.5))\n",
    "    #print(\"sigma value: {}\".format(sigma))\n",
    "\n",
    "    # Get normal 95% interval probability density function for normal continuous random variable apply two-sided conditional formula\n",
    "    cint = z + np.array([-1, 1]) * sigma * stats.norm.ppf((1+0.95)/2)\n",
    "    \n",
    "    #Finally take hyperbolic tangent to get interval values for 95%\n",
    "    interval = np.tanh(cint)\n",
    "    \n",
    "    if corr != 0:\n",
    "        print(\"alternative hypothesis: true correlation is not equal to 0\")\n",
    "    print(\"95 percent confidence interval:\")\n",
    "    print(interval)\n",
    "    print(\"sample estimates:\")\n",
    "    print(\"cor\")\n",
    "    print(corr[0])\n",
    "\n",
    "# так вычисляем корреляцию\n",
    "X = stats.norm.rvs(loc=0, scale=1, size=50)\n",
    "Y = stats.norm.rvs(loc=0, scale=1, size=50)\n",
    "corr = stats.pearsonr(X, Y)\n",
    "\n",
    "# так строим scatter plot\n",
    "plt.scatter(X,Y)\n",
    "plt.grid()\n",
    "plt.show()\n",
    "\n",
    "print(\"correlation: {}\".format(corr))\n"
   ]
  },
  {
   "cell_type": "code",
   "execution_count": 7,
   "id": "b520e6ef-ff74-40c8-af81-ea839527f98a",
   "metadata": {},
   "outputs": [
    {
     "name": "stdout",
     "output_type": "stream",
     "text": [
      "(Pearson's correlation coefficient, 2-tailed p-value) = PearsonRResult(statistic=0.9644157498493688, pvalue=7.635073836146667e-12)\n"
     ]
    },
    {
     "data": {
      "image/png": "[encoded data removed]",
      "text/plain": [
       "<Figure size 640x480 with 1 Axes>"
      ]
     },
     "metadata": {},
     "output_type": "display_data"
    },
    {
     "name": "stdout",
     "output_type": "stream",
     "text": [
      "data: x and y\n",
      "t = 15.47587, df = 18, p-value = 0.00000\n",
      "z value: 2.005523511652791\n",
      "sigma value (i.e standard error): 0.24253562503633297\n",
      "  Отклоняем 0 гипотезу в пользу альтернативной: коэффициент корелляции в генеральной совокупности != 0. p_val < 0.05\n",
      "95 percent confidence interval:[0.91045238 0.98609627]\n",
      "PearsonCorellation: 0.9644157498493688\n"
     ]
    }
   ],
   "source": [
    "from scipy import stats\n",
    "import matplotlib.pyplot as plt\n",
    "import numpy as np\n",
    "import random as r\n",
    "\n",
    "def cortest(x,y):\n",
    "    assert len(x)==len(y)\n",
    "    \n",
    "    #t value\n",
    "    cor_pearson = stats.pearsonr(x, y)[0]\n",
    "    df = len(x)-2\n",
    "    \n",
    "    t = cor_pearson * ((len(x) - 2) / (1 - cor_pearson**2))**0.5\n",
    "    p_val = stats.t.sf(np.abs(t), df)*2\n",
    "    print(\"data: x and y\")\n",
    "    print(f\"t = {round(t,5)}, df = {df}, p-value = {p_val:.5f}\")\n",
    "\n",
    "    # Use the Fisher transformation to get z\n",
    "    z = np.arctanh(cor_pearson)\n",
    "    print(\"z value: {}\".format(z))\n",
    "\n",
    "    # And, the sigma value i.e standard error\n",
    "    sigma = (1/((len(x)-3)**0.5))\n",
    "    print(\"sigma value (i.e standard error): {}\".format(sigma))\n",
    "\n",
    "    # Get normal 95% interval probability density function for normal continuous random variable apply two-sided conditional formula\n",
    "    cint = z + np.array([-1, 1]) * sigma * stats.norm.ppf((1+0.95)/2)\n",
    "    \n",
    "    #Finally take hyperbolic tangent to get interval values for 95%\n",
    "    interval = np.tanh(cint)\n",
    "    \n",
    "    if p_val < 0.05:\n",
    "        print(\"  Отклоняем 0 гипотезу в пользу альтернативной: коэффициент корелляции в генеральной совокупности != 0. p_val < 0.05\")\n",
    "    else:\n",
    "        print(\"  Не можем отклонить 0 гипотезу: коэффициент корелляции в генеральной совокупности = 0. p_val >= 0.05\")\n",
    "        \n",
    "    print(f\"95 percent confidence interval:{interval}\")\n",
    "    print(f\"PearsonCorellation: {cor_pearson}\")\n",
    "\n",
    "# ==================================================================  \n",
    "# функция имитирущая случаные факторы\n",
    "# р - настолько существенным будет случайный фактор\n",
    "def randomize(arr, p):\n",
    "    alpha = np.max(arr) - np.min(arr)\n",
    "    res = np.zeros(arr.shape)\n",
    "    for i, v in enumerate(arr):\n",
    "        sign = 1 if r.choice([True, False]) else -1\n",
    "        res[i] = v + sign*alpha*r.random()*p\n",
    "    return res\n",
    "    \n",
    "# ==================================================================    \n",
    "\n",
    "# создаем пару x и y\n",
    "\n",
    "x = np.array(range(30))\n",
    "y = randomize(x, 0.1) # чем ближе к 0 значение, тем менее случайными будут значения y и выше будет корелляция\n",
    "\n",
    "n = 20 # чем меньшее кол-во точек берем в пример, тем менее уверенные значения получаем\n",
    "a,b = x[:n],y[:n]    \n",
    "pearson_corr = stats.pearsonr(a, b)\n",
    "print(f\"(Pearson's correlation coefficient, 2-tailed p-value) = {pearson_corr}\")\n",
    "\n",
    "# cтроим scatter plot\n",
    "plt.scatter(a,b)\n",
    "plt.grid()\n",
    "plt.show()\n",
    "\n",
    "cortest(a,b)"
   ]
  },
  {
   "cell_type": "code",
   "execution_count": 9,
   "id": "dbc2c784-dd0a-4ab2-bba2-2cbe40433456",
   "metadata": {},
   "outputs": [
    {
     "name": "stdout",
     "output_type": "stream",
     "text": [
      "(Pearson's correlation coefficient, 2-tailed p-value) = PearsonRResult(statistic=-1.0, pvalue=0.0)\n"
     ]
    },
    {
     "data": {
      "image/png": "[encoded data removed]",
      "text/plain": [
       "<Figure size 640x480 with 1 Axes>"
      ]
     },
     "metadata": {},
     "output_type": "display_data"
    },
    {
     "name": "stdout",
     "output_type": "stream",
     "text": [
      "data: x and y\n",
      "t = -inf, df = 3, p-value = 0.00000\n",
      "z value: -inf\n",
      "sigma value (i.e standard error): 0.7071067811865475\n",
      "  Отклоняем 0 гипотезу в пользу альтернативной: коэффициент корелляции в генеральной совокупности != 0. p_val < 0.05\n",
      "95 percent confidence interval:[-1. -1.]\n",
      "PearsonCorellation: -1.0\n"
     ]
    },
    {
     "name": "stderr",
     "output_type": "stream",
     "text": [
      "C:\\Users\\Asus\\AppData\\Local\\Temp\\ipykernel_11820\\1777632094.py:13: RuntimeWarning: divide by zero encountered in scalar divide\n",
      "  t = cor_pearson * ((len(x) - 2) / (1 - cor_pearson**2))**0.5\n",
      "C:\\Users\\Asus\\AppData\\Local\\Temp\\ipykernel_11820\\1777632094.py:19: RuntimeWarning: divide by zero encountered in arctanh\n",
      "  z = np.arctanh(cor_pearson)\n"
     ]
    }
   ],
   "source": [
    "from scipy import stats\n",
    "import matplotlib.pyplot as plt\n",
    "import numpy as np\n",
    "import random as r\n",
    "\n",
    "def cortest(x,y):\n",
    "    assert len(x)==len(y)\n",
    "    \n",
    "    #t value\n",
    "    cor_pearson = stats.pearsonr(x, y)[0]\n",
    "    df = len(x)-2\n",
    "    \n",
    "    t = cor_pearson * ((len(x) - 2) / (1 - cor_pearson**2))**0.5\n",
    "    p_val = stats.t.sf(np.abs(t), df)*2\n",
    "    print(\"data: x and y\")\n",
    "    print(f\"t = {round(t,5)}, df = {df}, p-value = {p_val:.5f}\")\n",
    "\n",
    "    # Use the Fisher transformation to get z\n",
    "    z = np.arctanh(cor_pearson)\n",
    "    print(\"z value: {}\".format(z))\n",
    "\n",
    "    # And, the sigma value i.e standard error\n",
    "    sigma = (1/((len(x)-3)**0.5))\n",
    "    print(\"sigma value (i.e standard error): {}\".format(sigma))\n",
    "\n",
    "    # Get normal 95% interval probability density function for normal continuous random variable apply two-sided conditional formula\n",
    "    cint = z + np.array([-1, 1]) * sigma * stats.norm.ppf((1+0.95)/2)\n",
    "    \n",
    "    #Finally take hyperbolic tangent to get interval values for 95%\n",
    "    interval = np.tanh(cint)\n",
    "    \n",
    "    if p_val < 0.05:\n",
    "        print(\"  Отклоняем 0 гипотезу в пользу альтернативной: коэффициент корелляции в генеральной совокупности != 0. p_val < 0.05\")\n",
    "    else:\n",
    "        print(\"  Не можем отклонить 0 гипотезу: коэффициент корелляции в генеральной совокупности = 0. p_val >= 0.05\")\n",
    "        \n",
    "    print(f\"95 percent confidence interval:{interval}\")\n",
    "    print(f\"PearsonCorellation: {cor_pearson}\")\n",
    "\n",
    "# ==================================================================  \n",
    "# функция имитирущая случаные факторы\n",
    "# р - настолько существенным будет случайный фактор\n",
    "def randomize(arr, p):\n",
    "    alpha = np.max(arr) - np.min(arr)\n",
    "    res = np.zeros(arr.shape)\n",
    "    for i, v in enumerate(arr):\n",
    "        sign = 1 if r.choice([True, False]) else -1\n",
    "        res[i] = v + sign*alpha*r.random()*p\n",
    "    return res\n",
    "    \n",
    "# ==================================================================    \n",
    "\n",
    "# создаем пару x и y\n",
    "\n",
    "# x = np.array(range(30))\n",
    "# y = randomize(x, 0.1) # чем ближе к 0 значение, тем менее случайными будут значения y и выше будет корелляция\n",
    "x = [4,5,2,3,1]\n",
    "y = [2,1,4,3,5]\n",
    "\n",
    "n = len(x)+len(y) \n",
    "pearson_corr = stats.pearsonr(x, y)\n",
    "print(f\"(Pearson's correlation coefficient, 2-tailed p-value) = {pearson_corr}\")\n",
    "\n",
    "# cтроим scatter plot\n",
    "plt.scatter(x,y)\n",
    "plt.grid()\n",
    "plt.show()\n",
    "\n",
    "cortest(x,y)"
   ]
  },
  {
   "cell_type": "code",
   "execution_count": 3,
   "id": "4a0b2194-f096-4ac6-acea-02b6d850a028",
   "metadata": {},
   "outputs": [
    {
     "data": {
      "image/png": "[encoded data removed]",
      "text/plain": [
       "<Figure size 640x480 with 1 Axes>"
      ]
     },
     "metadata": {},
     "output_type": "display_data"
    }
   ],
   "source": [
    "import scipy.stats as stats\n",
    "from matplotlib import pyplot\n",
    "import itertools\n",
    "import numpy as np\n",
    "\n",
    "M = 0\n",
    "D = 1\n",
    "\n",
    "def ttest(a , b):\n",
    "    se = np.sqrt( a['SD']**2/a['N'] + b['SD']**2/b['N']  )\n",
    "    t = (a['Mx'] - b['Mx'])/se\n",
    "    dfreedom = a['N'] + b['N'] - 2\n",
    "    return stats.t.sf(np.abs(t), dfreedom)*2\n",
    "\n",
    "def false_alarm(m, n, a):\n",
    "    trys = 1000 # количество экспериментов\n",
    "    hist = {'Да':0, 'Нет':0} # результаты сравнений     \n",
    "    data = list(range(m)) # инициализация групп с выборками\n",
    "    \n",
    "    # запускаем trys экспериментов\n",
    "    for i in range(trys):\n",
    "        \n",
    "        # наполняем m выборок, для ускорения сразу их агрегируем по SD, Mx, N\n",
    "        for j in range(m):\n",
    "            dt = stats.norm.rvs(loc=M, scale=D, size=n)\n",
    "            data[j] = {'SD':np.std(dt, ddof = 1), 'Mx':np.mean(dt), 'N':n}\n",
    "        \n",
    "        #сравниваем выборки по 2 группы, перебор можно реализовать с помощью двух циклов или воспользоваться itertools\n",
    "        for first, second in itertools.combinations(data, 2):\n",
    "            if ttest(first, second) <= a:\n",
    "                hist['Да']+=1\n",
    "                break\n",
    "        else:\n",
    "            hist['Нет']+=1\n",
    "\n",
    "    # рисуем гитограмму частот\n",
    "    barlist = pyplot.bar(hist.keys(), hist.values(), color='b')\n",
    "    barlist[0].set_color('r')\n",
    "    pyplot.title(round(hist['Да'] / trys,3))\n",
    "    pyplot.ylabel('количество')\n",
    "    pyplot.show()\n",
    "    \n",
    "\n",
    "false_alarm(3,30,0.15)"
   ]
  },
  {
   "cell_type": "code",
   "execution_count": null,
   "id": "aff82601-0328-4894-9674-b18e9493c439",
   "metadata": {},
   "outputs": [],
   "source": []
  }
 ],
 "metadata": {
  "kernelspec": {
   "display_name": "Python 3 (ipykernel)",
   "language": "python",
   "name": "python3"
  },
  "language_info": {
   "codemirror_mode": {
    "name": "ipython",
    "version": 3
   },
   "file_extension": ".py",
   "mimetype": "text/x-python",
   "name": "python",
   "nbconvert_exporter": "python",
   "pygments_lexer": "ipython3",
   "version": "3.10.11"
  }
 },
 "nbformat": 4,
 "nbformat_minor": 5
}
